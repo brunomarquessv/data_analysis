{
 "cells": [
  {
   "cell_type": "markdown",
   "id": "b0563173-48bb-4464-9fe3-1b264dec67ba",
   "metadata": {},
   "source": [
    "## Numpy Arrays"
   ]
  },
  {
   "cell_type": "code",
   "execution_count": 1,
   "id": "e460a4ff-90b7-473b-86a6-4a8ffae9f4c2",
   "metadata": {},
   "outputs": [],
   "source": [
    "import numpy as np"
   ]
  },
  {
   "cell_type": "code",
   "execution_count": 2,
   "id": "09a8abe4-f0b4-429e-83ef-c25d829190c8",
   "metadata": {},
   "outputs": [
    {
     "data": {
      "text/plain": [
       "array([   0,    5,  155,    0,  518,    0, 1827,  616,  317,  325])"
      ]
     },
     "execution_count": 2,
     "metadata": {},
     "output_type": "execute_result"
    }
   ],
   "source": [
    "sales = [0, 5, 155, 0, 518, 0, 1827, 616, 317, 325]\n",
    "\n",
    "sales_array = np.array(sales)\n",
    "sales_array"
   ]
  },
  {
   "cell_type": "markdown",
   "id": "070a060c-1ad6-4f5a-8703-629b7be39462",
   "metadata": {},
   "source": [
    "**Array Properties**\n",
    "\n",
    "* ndim - show the number of dimensions(axes) in the array\n",
    "* shape - show the size of the array for each dimension (unidimensional, bidimensional, tridimensional...)\n",
    "* size - the total number of elements in the array\n",
    "* dtype - show the data type of the elements in the array"
   ]
  },
  {
   "cell_type": "code",
   "execution_count": 3,
   "id": "275af378-2640-42e7-a333-a065f5e61a8a",
   "metadata": {},
   "outputs": [
    {
     "name": "stdout",
     "output_type": "stream",
     "text": [
      "ndim: 1\n",
      "shape: (10,)\n",
      "size: 10\n",
      "dtype: int32\n"
     ]
    }
   ],
   "source": [
    "print(f\"ndim: {sales_array.ndim}\")\n",
    "print(f\"shape: {sales_array.shape}\")\n",
    "print(f\"size: {sales_array.size}\")\n",
    "print(f\"dtype: {sales_array.dtype}\")\n",
    "# ndarray its a stand data type for n-dimensional array"
   ]
  },
  {
   "cell_type": "code",
   "execution_count": 4,
   "id": "a0881d67-001a-4b61-87f2-312e2b32d30b",
   "metadata": {},
   "outputs": [
    {
     "data": {
      "text/plain": [
       "array([[   0,    5,  155,    0,  518],\n",
       "       [   0, 1827,  616,  317,  325]])"
      ]
     },
     "execution_count": 4,
     "metadata": {},
     "output_type": "execute_result"
    }
   ],
   "source": [
    "sales = [[0, 5, 155, 0, 518], [0, 1827, 616, 317, 325]]\n",
    "sales_array = np.array(sales)\n",
    "sales_array"
   ]
  },
  {
   "cell_type": "code",
   "execution_count": 5,
   "id": "f288722b-d16e-4e29-8492-e6f0395d2692",
   "metadata": {},
   "outputs": [
    {
     "name": "stdout",
     "output_type": "stream",
     "text": [
      "ndim: 2\n",
      "shape: (2, 5)\n",
      "size: 10\n",
      "dtype: int32\n"
     ]
    }
   ],
   "source": [
    "print(f\"ndim: {sales_array.ndim}\") # the sales_array has 2 dimensions\n",
    "print(f\"shape: {sales_array.shape}\") # the first dimension has a size of 2 rows and the second a size of 5 columns\n",
    "print(f\"size: {sales_array.size}\") # it has 10 elements total\n",
    "print(f\"dtype: {sales_array.dtype}\") # the elements are stored as 64-bit integers"
   ]
  },
  {
   "cell_type": "markdown",
   "id": "302f8e66-df9c-46e8-a5bc-42d22e42bf0d",
   "metadata": {},
   "source": [
    "**Another example**"
   ]
  },
  {
   "cell_type": "code",
   "execution_count": 6,
   "id": "cb04fd99-106c-4ea1-8be4-d79a6aea2ec1",
   "metadata": {},
   "outputs": [
    {
     "data": {
      "text/plain": [
       "array([0, 1, 2, 3, 4])"
      ]
     },
     "execution_count": 6,
     "metadata": {},
     "output_type": "execute_result"
    }
   ],
   "source": [
    "np.array(range(5))"
   ]
  },
  {
   "cell_type": "code",
   "execution_count": 7,
   "id": "1b40656b-d178-44e3-a9de-1d9a70d437d9",
   "metadata": {},
   "outputs": [
    {
     "data": {
      "text/plain": [
       "array([0, 1, 2, 3, 4])"
      ]
     },
     "execution_count": 7,
     "metadata": {},
     "output_type": "execute_result"
    }
   ],
   "source": [
    "array = np.array(range(5)) # one dimension array\n",
    "array"
   ]
  },
  {
   "cell_type": "code",
   "execution_count": 8,
   "id": "6293c21d-fa90-4bb1-bdbd-da122fc6da9d",
   "metadata": {},
   "outputs": [
    {
     "data": {
      "text/plain": [
       "array([[0, 1, 2, 3, 4],\n",
       "       [0, 1, 2, 3, 4]])"
      ]
     },
     "execution_count": 8,
     "metadata": {},
     "output_type": "execute_result"
    }
   ],
   "source": [
    "array_2d = np.array([range(5), range(5)]) # two dimensions array\n",
    "array_2d"
   ]
  },
  {
   "cell_type": "code",
   "execution_count": 9,
   "id": "a5a6e106-9a48-4564-998b-ff4dcbb54979",
   "metadata": {},
   "outputs": [
    {
     "name": "stdout",
     "output_type": "stream",
     "text": [
      "one dimension array shape = (5,)\n",
      "two dimensions array shape = (2, 5)\n"
     ]
    }
   ],
   "source": [
    "print(f\"one dimension array shape = {array.shape}\") # 5 columns and one single row\n",
    "print(f\"two dimensions array shape = {array_2d.shape}\") # 2 rows and 5 columns"
   ]
  },
  {
   "cell_type": "code",
   "execution_count": 10,
   "id": "dfffe39e-2fff-4463-9bd2-9b2c153f1874",
   "metadata": {},
   "outputs": [
    {
     "name": "stdout",
     "output_type": "stream",
     "text": [
      "one dimension array ndim = 1\n",
      "two dimensions array ndim = 2\n"
     ]
    }
   ],
   "source": [
    "print(f\"one dimension array ndim = {array.ndim}\")\n",
    "print(f\"two dimensions array ndim = {array_2d.ndim}\")"
   ]
  },
  {
   "cell_type": "code",
   "execution_count": 11,
   "id": "a7b7f980-874d-4acb-9a1b-98f1bf645fa2",
   "metadata": {},
   "outputs": [
    {
     "name": "stdout",
     "output_type": "stream",
     "text": [
      "one dimnesion array dtype = int32\n",
      "two dimension array dtype = int32\n"
     ]
    }
   ],
   "source": [
    "print(f\"one dimnesion array dtype = {array.dtype}\")\n",
    "print(f\"two dimension array dtype = {array_2d.dtype}\")"
   ]
  },
  {
   "cell_type": "code",
   "execution_count": 12,
   "id": "536ea746-73b0-45ce-84b9-ce8bc1377afe",
   "metadata": {},
   "outputs": [
    {
     "name": "stdout",
     "output_type": "stream",
     "text": [
      "one dimension array size = 5\n",
      "two dimensions array size = 10\n"
     ]
    }
   ],
   "source": [
    "print(f\"one dimension array size = {array.size}\") # 5 its the number of elements\n",
    "print(f\"two dimensions array size = {array_2d.size}\") # 10 its the number of elements"
   ]
  }
 ],
 "metadata": {
  "kernelspec": {
   "display_name": "Python 3 (ipykernel)",
   "language": "python",
   "name": "python3"
  },
  "language_info": {
   "codemirror_mode": {
    "name": "ipython",
    "version": 3
   },
   "file_extension": ".py",
   "mimetype": "text/x-python",
   "name": "python",
   "nbconvert_exporter": "python",
   "pygments_lexer": "ipython3",
   "version": "3.12.4"
  }
 },
 "nbformat": 4,
 "nbformat_minor": 5
}
