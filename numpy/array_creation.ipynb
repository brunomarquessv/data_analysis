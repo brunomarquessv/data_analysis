{
 "cells": [
  {
   "cell_type": "markdown",
   "metadata": {},
   "source": [
    "## Array Creation"
   ]
  },
  {
   "cell_type": "markdown",
   "metadata": {},
   "source": [
    "As an alternative to corverting lists, we can create our arrays using some stand functions of numpy"
   ]
  },
  {
   "cell_type": "code",
   "execution_count": 1,
   "metadata": {},
   "outputs": [],
   "source": [
    "import numpy as np"
   ]
  },
  {
   "cell_type": "code",
   "execution_count": 2,
   "metadata": {},
   "outputs": [
    {
     "data": {
      "text/plain": [
       "array([[1, 1, 1, 1, 1, 1, 1, 1, 1],\n",
       "       [1, 1, 1, 1, 1, 1, 1, 1, 1],\n",
       "       [1, 1, 1, 1, 1, 1, 1, 1, 1],\n",
       "       [1, 1, 1, 1, 1, 1, 1, 1, 1],\n",
       "       [1, 1, 1, 1, 1, 1, 1, 1, 1],\n",
       "       [1, 1, 1, 1, 1, 1, 1, 1, 1]])"
      ]
     },
     "execution_count": 2,
     "metadata": {},
     "output_type": "execute_result"
    }
   ],
   "source": [
    "# the function ones create an array with rows and columns based in your dimensions, as long as we provide more then two dimensios \n",
    "# np.ones((rows, cols), dtype)\n",
    "# by default the array will be created with float numbers, but if we use dtype=int this will be fixed\n",
    "np.ones(4, ) # array([1., 1., 1., 1.])\n",
    "np.ones((6,9), dtype=int)"
   ]
  },
  {
   "cell_type": "code",
   "execution_count": 3,
   "metadata": {},
   "outputs": [
    {
     "data": {
      "text/plain": [
       "array([[0, 0, 0, 0, 0],\n",
       "       [0, 0, 0, 0, 0]])"
      ]
     },
     "execution_count": 3,
     "metadata": {},
     "output_type": "execute_result"
    }
   ],
   "source": [
    "# the function zeros create an array with zeros and has the same structure of the ones function.\n",
    "np.zeros((2, 5), dtype=int)"
   ]
  },
  {
   "cell_type": "code",
   "execution_count": 4,
   "metadata": {},
   "outputs": [
    {
     "data": {
      "text/plain": [
       "array([0, 1, 2, 3, 4, 5, 6, 7, 8, 9])"
      ]
     },
     "execution_count": 4,
     "metadata": {},
     "output_type": "execute_result"
    }
   ],
   "source": [
    "# the functions arange has the same funcionality of range function in python, then it create a numerical array, so dont need to convert it\n",
    "# np.arange(start, stop, step) <- the same structure of range in python\n",
    "np.arange(10)"
   ]
  },
  {
   "cell_type": "code",
   "execution_count": 5,
   "metadata": {},
   "outputs": [
    {
     "data": {
      "text/plain": [
       "array([  0.,  10.,  20.,  30.,  40.,  50.,  60.,  70.,  80.,  90., 100.])"
      ]
     },
     "execution_count": 5,
     "metadata": {},
     "output_type": "execute_result"
    }
   ],
   "source": [
    "# the function linspace\n",
    "np.linspace(0, 100, 11)\n"
   ]
  },
  {
   "cell_type": "code",
   "execution_count": 6,
   "metadata": {},
   "outputs": [
    {
     "data": {
      "text/plain": [
       "array([[1, 3],\n",
       "       [5, 7]])"
      ]
     },
     "execution_count": 6,
     "metadata": {},
     "output_type": "execute_result"
    }
   ],
   "source": [
    "# reshape\n",
    "np.arange(1, 9, 2).reshape(2, 2)"
   ]
  },
  {
   "cell_type": "markdown",
   "metadata": {},
   "source": [
    "#### Generating Random Numbers"
   ]
  },
  {
   "cell_type": "markdown",
   "metadata": {},
   "source": [
    "We can create random number arrays from a variety of distribution using NumPy functions and methods."
   ]
  },
  {
   "cell_type": "code",
   "execution_count": 7,
   "metadata": {},
   "outputs": [],
   "source": [
    "# creates a random number generator (the seed is for reproducibility)\n",
    "# np.random.default_rng(seed)\n",
    "rng = np.random.default_rng()"
   ]
  },
  {
   "cell_type": "code",
   "execution_count": 8,
   "metadata": {},
   "outputs": [
    {
     "data": {
      "text/plain": [
       "array([0.39289728, 0.34184962, 0.22906093, 0.15503531, 0.06889173,\n",
       "       0.68780044, 0.79470652, 0.14627738, 0.25122404, 0.73235496])"
      ]
     },
     "execution_count": 8,
     "metadata": {},
     "output_type": "execute_result"
    }
   ],
   "source": [
    "# return n randoms numbers from a uniform distribution between 0 and 1\n",
    "# rng.random(n)\n",
    "rng.random(10)"
   ]
  },
  {
   "cell_type": "code",
   "execution_count": 9,
   "metadata": {},
   "outputs": [
    {
     "data": {
      "text/plain": [
       "array([2, 5, 0, 0, 0, 1, 4, 1, 0, 9, 7, 0, 3, 0, 2, 7, 5, 9, 2, 2, 5, 8,\n",
       "       8, 4, 2, 6, 9, 9, 1, 2, 8, 9, 8, 5, 3, 7, 0, 8, 6, 3, 3, 4, 2, 5,\n",
       "       3, 3, 9, 0, 3, 4, 0, 0, 2, 3, 3, 3, 1, 8, 8, 4, 7, 9, 1, 4, 3, 9,\n",
       "       9, 1, 8, 1, 6, 3, 8, 7, 8, 9, 7, 4, 0, 7, 8, 8, 4, 4, 3, 9, 2, 2,\n",
       "       3, 2, 3, 8, 5, 3, 8, 6, 7, 8, 9, 4], dtype=int64)"
      ]
     },
     "execution_count": 9,
     "metadata": {},
     "output_type": "execute_result"
    }
   ],
   "source": [
    "# integers(rangeStart, rangeFinish, quantity_of_numbers)\n",
    "rng.integers(0, 10, 100)"
   ]
  },
  {
   "cell_type": "code",
   "execution_count": 10,
   "metadata": {},
   "outputs": [
    {
     "data": {
      "text/plain": [
       "array([4.98961884, 5.36369528, 4.51757429, 3.56661505, 4.94755407,\n",
       "       4.62355051, 4.23802136, 4.25745236, 4.91413062, 4.45393226])"
      ]
     },
     "execution_count": 10,
     "metadata": {},
     "output_type": "execute_result"
    }
   ],
   "source": [
    "# return n random number from a normal distribution with a given mean and standard deviation\n",
    "# rng.normal(mean, stdev, n)\n",
    "rng = np.random.default_rng()\n",
    "\n",
    "mean, stddev = 5, 1\n",
    "random_normal = rng.normal(mean, stddev, size=10)\n",
    "random_normal\n",
    "\n",
    "# we are using the normal method on 'rng' to return an array with 10 random numbers from a normal\n",
    "# distribution with a mean of 5 and a st.deviation of 1"
   ]
  }
 ],
 "metadata": {
  "kernelspec": {
   "display_name": "base",
   "language": "python",
   "name": "python3"
  },
  "language_info": {
   "codemirror_mode": {
    "name": "ipython",
    "version": 3
   },
   "file_extension": ".py",
   "mimetype": "text/x-python",
   "name": "python",
   "nbconvert_exporter": "python",
   "pygments_lexer": "ipython3",
   "version": "3.12.4"
  }
 },
 "nbformat": 4,
 "nbformat_minor": 2
}
