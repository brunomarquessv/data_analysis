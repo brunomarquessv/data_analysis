{
 "cells": [
  {
   "cell_type": "markdown",
   "metadata": {},
   "source": [
    "## Indexing & Slicing Arrays"
   ]
  },
  {
   "cell_type": "markdown",
   "metadata": {},
   "source": [
    "Indexing and slicing **one-dimensional** arrays is the same as base Python\n",
    "\n",
    "* array[index] - indexing to access a single elemtn(0-indexed)\n",
    "* array[start:stop:setp size] - slicing to access a series of elements (stop is not inclusive)"
   ]
  },
  {
   "cell_type": "code",
   "execution_count": 1,
   "metadata": {},
   "outputs": [],
   "source": [
    "import numpy as np"
   ]
  },
  {
   "cell_type": "code",
   "execution_count": 7,
   "metadata": {},
   "outputs": [
    {
     "data": {
      "text/plain": [
       "array(['banana', 'maça', 'pera', 'uva', 'ameixa', 'pessego', 'manga',\n",
       "       'tangerina', 'melao', 'abacate'], dtype='<U9')"
      ]
     },
     "execution_count": 7,
     "metadata": {},
     "output_type": "execute_result"
    }
   ],
   "source": [
    "fruits = ['banana', 'maça', 'pera', 'uva', 'ameixa', 'pessego', 'manga', 'tangerina', 'melao', 'abacate']\n",
    "array_fruits = np.array(fruits)\n",
    "array_fruits"
   ]
  },
  {
   "cell_type": "code",
   "execution_count": 10,
   "metadata": {},
   "outputs": [
    {
     "name": "stdout",
     "output_type": "stream",
     "text": [
      "maça\n",
      "abacate\n"
     ]
    }
   ],
   "source": [
    "print(array_fruits[1])\n",
    "print(array_fruits[-1])"
   ]
  },
  {
   "cell_type": "code",
   "execution_count": 11,
   "metadata": {},
   "outputs": [
    {
     "data": {
      "text/plain": [
       "array(['banana', 'maça', 'pera', 'uva', 'ameixa'], dtype='<U9')"
      ]
     },
     "execution_count": 11,
     "metadata": {},
     "output_type": "execute_result"
    }
   ],
   "source": [
    "array_fruits[:5]"
   ]
  },
  {
   "cell_type": "code",
   "execution_count": 14,
   "metadata": {},
   "outputs": [
    {
     "data": {
      "text/plain": [
       "array(['maça', 'uva', 'pessego'], dtype='<U9')"
      ]
     },
     "execution_count": 14,
     "metadata": {},
     "output_type": "execute_result"
    }
   ],
   "source": [
    "array_fruits[1:6:2]"
   ]
  },
  {
   "cell_type": "markdown",
   "metadata": {},
   "source": [
    "Indexing and slicing **two-dimensional** arrays requires an extra index or slice \n",
    "\n",
    "* array[row index, column index] - indexing to access a single element (0-indexed)\n",
    "* array[start:stop:step size, start:stop:step size] - slicing to access a series of elements"
   ]
  },
  {
   "cell_type": "code",
   "execution_count": 16,
   "metadata": {},
   "outputs": [
    {
     "data": {
      "text/plain": [
       "array([['chair', 'bed', 'table', 'bag'],\n",
       "       ['coffee', 'eggs', 'cereal', 'milk']], dtype='<U6')"
      ]
     },
     "execution_count": 16,
     "metadata": {},
     "output_type": "execute_result"
    }
   ],
   "source": [
    "products = [['chair', 'bed', 'table', 'bag'], ['coffee', 'eggs', 'cereal', 'milk']]\n",
    "products_array = np.array(products)\n",
    "\n",
    "products_array"
   ]
  },
  {
   "cell_type": "code",
   "execution_count": 18,
   "metadata": {},
   "outputs": [
    {
     "data": {
      "text/plain": [
       "'cereal'"
      ]
     },
     "execution_count": 18,
     "metadata": {},
     "output_type": "execute_result"
    }
   ],
   "source": [
    "products_array[1, 2] # this goes to the second row and grabs the third element"
   ]
  },
  {
   "cell_type": "code",
   "execution_count": 19,
   "metadata": {},
   "outputs": [
    {
     "data": {
      "text/plain": [
       "array([['table', 'bag'],\n",
       "       ['cereal', 'milk']], dtype='<U6')"
      ]
     },
     "execution_count": 19,
     "metadata": {},
     "output_type": "execute_result"
    }
   ],
   "source": [
    "products_array[:, 2:] # this goes to all rows and grabs all the elemnts starting from the third in each row "
   ]
  },
  {
   "cell_type": "code",
   "execution_count": 21,
   "metadata": {},
   "outputs": [
    {
     "data": {
      "text/plain": [
       "array([['coffee', 'eggs', 'cereal', 'milk']], dtype='<U6')"
      ]
     },
     "execution_count": 21,
     "metadata": {},
     "output_type": "execute_result"
    }
   ],
   "source": [
    "products_array[1:, :] # this goes to the second row and grabs all its elements"
   ]
  },
  {
   "cell_type": "code",
   "execution_count": null,
   "metadata": {},
   "outputs": [],
   "source": []
  }
 ],
 "metadata": {
  "kernelspec": {
   "display_name": "base",
   "language": "python",
   "name": "python3"
  },
  "language_info": {
   "codemirror_mode": {
    "name": "ipython",
    "version": 3
   },
   "file_extension": ".py",
   "mimetype": "text/x-python",
   "name": "python",
   "nbconvert_exporter": "python",
   "pygments_lexer": "ipython3",
   "version": "3.12.4"
  }
 },
 "nbformat": 4,
 "nbformat_minor": 2
}
