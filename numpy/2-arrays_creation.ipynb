{
 "cells": [
  {
   "cell_type": "markdown",
   "metadata": {},
   "source": [
    "## Array Creation"
   ]
  },
  {
   "cell_type": "markdown",
   "metadata": {},
   "source": [
    "As an alternative to corverting lists, we can create our arrays using some stand functions of numpy"
   ]
  },
  {
   "cell_type": "code",
   "execution_count": 1,
   "metadata": {},
   "outputs": [],
   "source": [
    "import numpy as np"
   ]
  },
  {
   "cell_type": "code",
   "execution_count": 2,
   "metadata": {},
   "outputs": [
    {
     "data": {
      "text/plain": [
       "array([[1, 1, 1, 1, 1, 1, 1, 1, 1],\n",
       "       [1, 1, 1, 1, 1, 1, 1, 1, 1],\n",
       "       [1, 1, 1, 1, 1, 1, 1, 1, 1],\n",
       "       [1, 1, 1, 1, 1, 1, 1, 1, 1],\n",
       "       [1, 1, 1, 1, 1, 1, 1, 1, 1],\n",
       "       [1, 1, 1, 1, 1, 1, 1, 1, 1]])"
      ]
     },
     "execution_count": 2,
     "metadata": {},
     "output_type": "execute_result"
    }
   ],
   "source": [
    "# the function ones create an array with rows and columns based in your dimensions, as long as we provide more then two dimensios \n",
    "# np.ones((rows, cols), dtype)\n",
    "# by default the array will be created with float numbers, but if we use dtype=int this will be fixed\n",
    "np.ones(4, ) # array([1., 1., 1., 1.])\n",
    "np.ones((6,9), dtype=int)"
   ]
  },
  {
   "cell_type": "code",
   "execution_count": 3,
   "metadata": {},
   "outputs": [
    {
     "data": {
      "text/plain": [
       "array([[0, 0, 0, 0, 0],\n",
       "       [0, 0, 0, 0, 0]])"
      ]
     },
     "execution_count": 3,
     "metadata": {},
     "output_type": "execute_result"
    }
   ],
   "source": [
    "# the function zeros create an array with zeros and has the same structure of the ones function.\n",
    "np.zeros((2, 5), dtype=int)"
   ]
  },
  {
   "cell_type": "code",
   "execution_count": 4,
   "metadata": {},
   "outputs": [
    {
     "data": {
      "text/plain": [
       "array([0, 1, 2, 3, 4, 5, 6, 7, 8, 9])"
      ]
     },
     "execution_count": 4,
     "metadata": {},
     "output_type": "execute_result"
    }
   ],
   "source": [
    "# the functions arange has the same funcionality of range function in python, then it create a numerical array, so dont need to convert it\n",
    "# np.arange(start, stop, step) <- the same structure of range in python\n",
    "np.arange(10)"
   ]
  },
  {
   "cell_type": "code",
   "execution_count": 5,
   "metadata": {},
   "outputs": [
    {
     "data": {
      "text/plain": [
       "array([  0.,  10.,  20.,  30.,  40.,  50.,  60.,  70.,  80.,  90., 100.])"
      ]
     },
     "execution_count": 5,
     "metadata": {},
     "output_type": "execute_result"
    }
   ],
   "source": [
    "# the function linspace\n",
    "np.linspace(0, 100, 11)\n"
   ]
  },
  {
   "cell_type": "code",
   "execution_count": 6,
   "metadata": {},
   "outputs": [
    {
     "data": {
      "text/plain": [
       "array([[1, 3],\n",
       "       [5, 7]])"
      ]
     },
     "execution_count": 6,
     "metadata": {},
     "output_type": "execute_result"
    }
   ],
   "source": [
    "# reshape\n",
    "np.arange(1, 9, 2).reshape(2, 2)"
   ]
  },
  {
   "cell_type": "markdown",
   "metadata": {},
   "source": [
    "#### Generating Random Numbers"
   ]
  },
  {
   "cell_type": "markdown",
   "metadata": {},
   "source": [
    "We can create random number arrays from a variety of distribution using NumPy functions and methods."
   ]
  },
  {
   "cell_type": "code",
   "execution_count": 7,
   "metadata": {},
   "outputs": [],
   "source": [
    "# creates a random number generator (the seed is for reproducibility)\n",
    "# np.random.default_rng(seed)\n",
    "rng = np.random.default_rng()"
   ]
  },
  {
   "cell_type": "code",
   "execution_count": 8,
   "metadata": {},
   "outputs": [
    {
     "data": {
      "text/plain": [
       "array([0.41999066, 0.50419965, 0.199954  , 0.85058575, 0.92141121,\n",
       "       0.10387876, 0.05397173, 0.3387794 , 0.29103139, 0.3733121 ])"
      ]
     },
     "execution_count": 8,
     "metadata": {},
     "output_type": "execute_result"
    }
   ],
   "source": [
    "# return n randoms numbers from a uniform distribution between 0 and 1\n",
    "# rng.random(n)\n",
    "rng.random(10)"
   ]
  },
  {
   "cell_type": "code",
   "execution_count": 9,
   "metadata": {},
   "outputs": [
    {
     "data": {
      "text/plain": [
       "array([9, 3, 6, 3, 3, 4, 1, 6, 4, 7, 8, 2, 3, 6, 6, 7, 0, 5, 4, 5, 2, 4,\n",
       "       4, 4, 3, 4, 1, 7, 6, 0, 6, 7, 9, 3, 6, 4, 9, 3, 2, 7, 7, 1, 6, 1,\n",
       "       5, 2, 9, 1, 6, 9, 4, 7, 5, 0, 7, 0, 1, 2, 0, 5, 4, 8, 0, 3, 2, 3,\n",
       "       6, 5, 8, 2, 8, 0, 0, 5, 5, 0, 5, 5, 1, 1, 7, 2, 1, 7, 3, 7, 9, 2,\n",
       "       7, 3, 0, 3, 0, 9, 1, 5, 9, 0, 5, 1], dtype=int64)"
      ]
     },
     "execution_count": 9,
     "metadata": {},
     "output_type": "execute_result"
    }
   ],
   "source": [
    "# integers(rangeStart, rangeFinish, quantity_of_numbers)\n",
    "rng.integers(0, 10, 100)"
   ]
  },
  {
   "cell_type": "code",
   "execution_count": 10,
   "metadata": {},
   "outputs": [
    {
     "data": {
      "text/plain": [
       "array([5.14577764, 5.89807632, 4.2112145 , 6.44160774, 4.82423521,\n",
       "       3.59229589, 4.6278695 , 3.8267246 , 4.65456486, 5.35511544])"
      ]
     },
     "execution_count": 10,
     "metadata": {},
     "output_type": "execute_result"
    }
   ],
   "source": [
    "# return n random number from a normal distribution with a given mean and standard deviation\n",
    "# rng.normal(mean, stdev, n)\n",
    "rng = np.random.default_rng()\n",
    "\n",
    "mean, stddev = 5, 1\n",
    "random_normal = rng.normal(mean, stddev, size=10)\n",
    "random_normal\n",
    "\n",
    "# we are using the normal method on 'rng' to return an array with 10 random numbers from a normal\n",
    "# distribution with a mean of 5 and a st.deviation of 1"
   ]
  }
 ],
 "metadata": {
  "kernelspec": {
   "display_name": "base",
   "language": "python",
   "name": "python3"
  },
  "language_info": {
   "codemirror_mode": {
    "name": "ipython",
    "version": 3
   },
   "file_extension": ".py",
   "mimetype": "text/x-python",
   "name": "python",
   "nbconvert_exporter": "python",
   "pygments_lexer": "ipython3",
   "version": "3.12.4"
  }
 },
 "nbformat": 4,
 "nbformat_minor": 2
}
