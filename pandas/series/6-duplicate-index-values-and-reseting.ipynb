{
 "cells": [
  {
   "cell_type": "markdown",
   "metadata": {},
   "source": [
    "## Duplicate Index Values & Resetting The Index\n",
    "\n",
    "It is possible to have duplicate index values in a Pandas Series or DataFrame\n",
    "* Accessing these indices by their label using **.loc[]** returns all corresponding rows"
   ]
  },
  {
   "cell_type": "markdown",
   "metadata": {},
   "source": []
  }
 ],
 "metadata": {
  "language_info": {
   "name": "python"
  }
 },
 "nbformat": 4,
 "nbformat_minor": 2
}
